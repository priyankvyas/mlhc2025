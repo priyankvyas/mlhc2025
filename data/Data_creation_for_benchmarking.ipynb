{
  "nbformat": 4,
  "nbformat_minor": 0,
  "metadata": {
    "colab": {
      "provenance": []
    },
    "kernelspec": {
      "name": "python3",
      "display_name": "Python 3"
    },
    "language_info": {
      "name": "python"
    }
  },
  "cells": [
    {
      "cell_type": "markdown",
      "source": [
        "# Data creation for benchmarking\n",
        "In order for fair comparison across benchmarking, we generate a single dataset for train and test to be used across all models.\n",
        "\n",
        "The input file is NHAMCS 2022 formatted and preprocessed as per described in section 4.Data (EDIT). Data is further prepared here by mapping triage level from text to respective number (0-4). Target is defined as triage level, and dataset is split into training and test in a 98:2 split"
      ],
      "metadata": {
        "id": "2xaWnp_vaTSD"
      }
    },
    {
      "cell_type": "code",
      "execution_count": null,
      "metadata": {
        "id": "NiZWsWC8vqSl"
      },
      "outputs": [],
      "source": [
        "import numpy as np\n",
        "import pandas as pd\n",
        "import matplotlib.pyplot as plt\n"
      ]
    },
    {
      "cell_type": "code",
      "source": [
        "#Importing preprocessed NHAMCS file\n",
        "file_path = '/content/formatted_ed2022.csv'\n",
        "\n",
        "df = pd.read_csv(file_path)"
      ],
      "metadata": {
        "id": "wcMZZ_IoS0eb"
      },
      "execution_count": null,
      "outputs": []
    },
    {
      "cell_type": "code",
      "source": [
        "#Mapping triage from free text to numbers\n",
        "triage_mapping = {\n",
        "    \"Immediate\": 0,\n",
        "    \"Emergent\": 1,\n",
        "    \"Urgent\": 2,\n",
        "    \"Semi-urgent\": 3,\n",
        "    \"Nonurgent\": 4\n",
        "}\n",
        "\n",
        "df_mapped = df.copy()\n",
        "df_mapped[\"IMMEDR\"] = df_mapped[\"IMMEDR\"].map(triage_mapping) #IMMEDR is the column containing triage level\n"
      ],
      "metadata": {
        "id": "SCGdo-jW6iKk"
      },
      "execution_count": null,
      "outputs": []
    },
    {
      "cell_type": "code",
      "source": [
        "#splitting dataset into features and target variables\n",
        "X = df_mapped.drop(\"IMMEDR\", axis=1)\n",
        "y = df_mapped[\"IMMEDR\"]\n",
        "\n",
        "#splitting data into training and validation sets\n",
        "X, X_test, y, y_test = train_test_split(X, y, test_size=0.02, random_state=42) #test size as 2% of total set\n"
      ],
      "metadata": {
        "id": "rih5Y1wW8a2c"
      },
      "execution_count": null,
      "outputs": []
    },
    {
      "cell_type": "code",
      "source": [
        "#saving test and train set to use for all models\n",
        "y_test.to_csv('y_test_final.csv', index=False)\n",
        "X_test.to_csv('X_test_final.csv', index=False)\n",
        "X.to_csv('X.csv_final', index=False)\n",
        "y.to_csv('y.csv_final', index=False)"
      ],
      "metadata": {
        "id": "0IFAVo518pwN"
      },
      "execution_count": null,
      "outputs": []
    }
  ]
}